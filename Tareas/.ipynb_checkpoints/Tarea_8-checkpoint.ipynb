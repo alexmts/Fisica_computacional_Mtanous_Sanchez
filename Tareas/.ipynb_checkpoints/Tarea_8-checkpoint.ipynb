{
 "cells": [
  {
   "cell_type": "markdown",
   "metadata": {},
   "source": [
    "__Ejercicio 1__. Escribe una función `derivadaNumerica` que\n",
    "reciba: una función $f\\colon \\mathbb{R}\\mapsto\\mathbb{R}$,\n",
    "un punto $x_0\\in\\mathbb{R}$ y un número $h\\in\\mathbb{R}$. Esta función deberá calcular una aproximación a la\n",
    "derivada utilizando la definición indicada arriba ignorando\n",
    "la parte del límite. Es decir, algo como: `derivada_numerica(f,x,h)`."
   ]
  },
  {
   "cell_type": "code",
   "execution_count": 1,
   "metadata": {
    "collapsed": false
   },
   "outputs": [
    {
     "data": {
      "text/plain": [
       "T (generic function with 1 method)"
      ]
     },
     "execution_count": 1,
     "metadata": {},
     "output_type": "execute_result"
    }
   ],
   "source": [
    "#Primero definimos la función en donde vamos a probar\n",
    "function T(x)\n",
    "    return e^(x);\n",
    "end"
   ]
  },
  {
   "cell_type": "code",
   "execution_count": 2,
   "metadata": {
    "collapsed": false
   },
   "outputs": [
    {
     "data": {
      "text/plain": [
       "deriv_num (generic function with 1 method)"
      ]
     },
     "execution_count": 2,
     "metadata": {},
     "output_type": "execute_result"
    }
   ],
   "source": [
    "#Esta función toma una función de Julia (f), un punto x en los reales y el tamaño de la diferencia h\n",
    "function deriv_num(f::Function, x, h)\n",
    "    \n",
    "    #regresa la derivada numérica\n",
    "    \n",
    "    j = (f(x+h)-f(x))/h;\n",
    "    return j;\n",
    "end"
   ]
  },
  {
   "cell_type": "code",
   "execution_count": 4,
   "metadata": {
    "collapsed": false
   },
   "outputs": [
    {
     "data": {
      "text/plain": [
       "54.598177342768395"
      ]
     },
     "execution_count": 4,
     "metadata": {},
     "output_type": "execute_result"
    }
   ],
   "source": [
    "#Ahora probamos la rutina \n",
    "deriv_num(T, 4, 0.000001)"
   ]
  },
  {
   "cell_type": "code",
   "execution_count": 5,
   "metadata": {
    "collapsed": false
   },
   "outputs": [
    {
     "data": {
      "text/plain": [
       "54.598150033144236"
      ]
     },
     "execution_count": 5,
     "metadata": {},
     "output_type": "execute_result"
    }
   ],
   "source": [
    "#comprobamos con valor excato\n",
    "e^4"
   ]
  },
  {
   "cell_type": "markdown",
   "metadata": {},
   "source": [
    "__Ejercicio 7:__ Explotar la relación $\\delta_h=\\Delta_h-\\Delta_{-h}$, donde $\\delta_h:f(x)\\mapsto f(x+h)-f(x-h)$, para encontrar cual es la función $\\theta$ que relaciona a $\\delta_h$ con el operador derivada exacta, es decir:\n",
    "$$\\delta_h=\\theta\\left(h\\left. \\frac{d}{d\\xi}\\right|_{\\xi=x}\\right).$$\n",
    "\n",
    "Una vez que la encuentren, despejen $\\left. \\frac{d}{d\\xi}\\right|_{\\xi=x}$ y calculen la serie de Taylor de mánera similar a lo mostrado en las ecuaciones 3 y 4."
   ]
  },
  {
   "cell_type": "markdown",
   "metadata": {},
   "source": [
    "Solución\n",
    "\n",
    "Observamos que en el caso de $ \\Delta_h$:\n",
    "\n",
    "$$ \\Delta_h = \\sum_{n=1}^{\\infty} \\frac{1}{n!}(h)^n\\frac{d^n}{(d\\xi)^n} = \\Phi(h)\\frac{d}{d\\xi} = e^{(h)\\frac{d}{d\\xi}} -1 $$"
   ]
  },
  {
   "cell_type": "markdown",
   "metadata": {},
   "source": [
    "Es análogo para el caso de $ \\Delta_-h$:\n",
    "\n",
    "$$ \\Delta_h = \\sum_{n=1}^{\\infty} \\frac{1}{n!}(-h)^n\\frac{d^n}{(d\\xi)^n} = \\Phi(-h)\\frac{d}{d\\xi} = e^{(-h)\\frac{d}{d\\xi}} -1 $$"
   ]
  },
  {
   "cell_type": "markdown",
   "metadata": {},
   "source": [
    "Ahora sustituímos ambas expresiones en $ \\delta_h$"
   ]
  },
  {
   "cell_type": "markdown",
   "metadata": {},
   "source": [
    "$$ \\delta_h = \\Delta_h - \\Delta_-h = e^{(h)\\frac{d}{d\\xi}} -1 - (e^{(-h)\\frac{d}{d\\xi}} -1) $$\n",
    "\n",
    "Esto es igual a $$ \\delta_h = 2sinh(h\\frac{d}{d\\xi}) $$"
   ]
  },
  {
   "cell_type": "markdown",
   "metadata": {},
   "source": [
    "Por lo tanto, tenemos que el ángulo es\n",
    "\n",
    "$$ \\Theta(x) = 2sinh(x) $$"
   ]
  },
  {
   "cell_type": "markdown",
   "metadata": {},
   "source": [
    "Si ahora despejamos \\frac{d}{d\\xi}:\n",
    "\n",
    "$$ \\frac{d}{d\\xi} = \\frac{1}{h}arcsinh(\\frac{\\delta_h}{2}) $$"
   ]
  },
  {
   "cell_type": "markdown",
   "metadata": {},
   "source": [
    "Sacandole la serie de Taylor alrededor del cero:\n",
    "\n",
    "$$ \\frac{d}{d\\xi} = \\frac{1}{h} [\\frac{1}{2} \\delta_h - \\frac{1}{48} \\delta_{h}^3 + \\frac{3}{1280} \\delta_{h}^5 + ...] $$"
   ]
  }
 ],
 "metadata": {
  "kernelspec": {
   "display_name": "Julia 0.6.0",
   "language": "julia",
   "name": "julia-0.6"
  },
  "language_info": {
   "file_extension": ".jl",
   "mimetype": "application/julia",
   "name": "julia",
   "version": "0.6.0"
  }
 },
 "nbformat": 4,
 "nbformat_minor": 2
}
