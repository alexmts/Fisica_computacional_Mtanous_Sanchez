{
 "cells": [
  {
   "cell_type": "markdown",
   "metadata": {},
   "source": [
    "__Ejercicio1:__ Escriba la forma del operador laplaciano utilizando diferencias finitas simétricas.\n",
    "\n",
    "Solución: Primero analizemos las derivadas parciales, para ello recordemos su definición donde tomamos $f(\\vec x)=f(x^\\mu e_{\\mu})$:\n",
    "$\\partial_{\\mu}f=\\lim\\limits_{h \\rightarrow 0} \\frac{f(x^{\\nu}e_{\\nu}+he_{\\mu})-f(x^\\nu e_{\\nu})}{h}$\n",
    "ahora hacemos el analogo para la derivada simétrica pero con parciales, por tanto obtenemos que: $$(\\Delta_{\\mu})_hf=\\frac{f(x^{\\nu}e_{\\nu}+he_{\\mu})-f(x^{\\nu}e_{\\nu}-he_{\\mu})}{2h}$$ \n",
    "\n",
    "donde el laplaciano es $\\nabla^2=\\partial_{\\mu} \\partial_{\\mu}=\\partial^2_{\\mu \\mu}$ de tal manera que nos queda al aplicar $(\\Delta_{\\mu})_h\\circ(\\Delta_{\\mu})_h=(\\Delta^2_{\\mu})_h$ \n",
    "\n",
    "$$\\partial^2_{\\mu}f\\approx(\\Delta^2_{\\mu})_hf=\\frac{f(x^{\\nu}e_{\\nu}+he_{\\mu})+f(x^{\\nu}e_{\\nu}-he_{\\mu})-2f(x^{\\nu}e_{\\nu})}{h²}$$ \n",
    "\n",
    "de esta manera podemos obtener facilmente la discretización por diferencias simétricas del laplaciano $\\nabla^2$ \n",
    "\n",
    "$$\\nabla^2f\\approx (\\Delta^2)_hf= \\frac{f(\\vec{x}+he_1)+f(\\vec{x}-he_1)-2f(\\vec{x})}{h²}+\\frac{f(\\vec{x}+he_2)+f(\\vec{x}-he_2)-2f(\\vec{x})}{h²}+\\frac{f(\\vec{x}+he_3)+f(\\vec{x}-he_3)-2f(\\vec{x})}{h²}\n",
    "=\\frac{f(\\vec{x}+he_1)+f(\\vec{x}-he_1)+f(\\vec{x}+he_2)+f(\\vec{x}-he_2)+f(\\vec{x}+he_3)+f(\\vec{x}-he_3)-6f(\\vec{x})}{h²}$$ donde $e_1=(1,0,0),e_2=(0,1,0),e_3=(0,0,1)$"
   ]
  },
  {
   "cell_type": "markdown",
   "metadata": {},
   "source": [
    "__Ejercicio 2:__ (condiciones a la frontera de Dirichlet). Discretice la ecuación $$ \\frac{d^2f}{dx^2}, $$ en el intervalo $[0,1]$, y aplicando el operador laplaciano discretizado obtenga el sistema de ecuaciones algebraicas lineales correspondientes al problema de Dirichlet: $f(0) = a$ y $f(1) = b$ dividiendo el intervalo $[0,1]$ en $5$ puntos separados por $h$.\n",
    "\n",
    "Solución: para nuestro caso tomamos h=1/4, entonces los puntos son $\\{0,1/4,1/2,3/4,1\\}$ , entonces aplicando que $f(0)=a$ y $f(1)=b$ entonces solamente ocupamos que $[(\\Delta^2)_{1/5}f](0,1/4,1/2,3/4,1)=0$ y usamos la fórmula $(\\Delta^2)_hf(a)=\\frac{f(a+h)+f(a-h)-2f(a)}{h²}$, aplicando lo anterior se tiene el sistema de ecuaciones: $$\\begin{cases}\n",
    "f(1/4)+f(-1/4)-2a=0\n",
    "\\\\f(1/2)+a-2f(1/4)=0\n",
    "\\\\f(3/4)+f(1/4)-2f(1/2)=0\n",
    "\\\\b+f(1/2)-2f(3/4)=0\n",
    "\\\\f(5/4)+f(3/4)-2b=0\n",
    "\\end{cases}$$\n"
   ]
  },
  {
   "cell_type": "markdown",
   "metadata": {},
   "source": [
    "__Ejercicio 3:__ (condiciones a la frontera de Neumann). Hacer lo mismo para condiciones de Neumann, es decir, fijando en los extremos el valor de la primera derivada de la función. Para esto utilice la derivada hacia adeltante en las orillas, es decir, si $f'(0)=a$ y $f'(1)=b$, entonces $(f_1-f_0)/h=a$, etc. No olvide que debe resultar un sistema de ecuación cuya dimensión sea el número de incognitas.\n",
    "Solución: ahora aplicamos exactamente lo mismo, de manera que las ecuaciones para los puntos interiores siguen siendo las mismas, lo único que se altera son la primera y última ecuación, en esta aplicamos que $f'(0)=a\\approx \\frac{f(1/4)-f(0)}{1/4}$ y que $f'(1)=b\\approx \\frac{f(5/4)-f(1)}{1/4}$, de manera que ahora el sistema de ecuaciones es: $$\\begin{cases}\n",
    "f(1/4)-f(0)-4a=0\n",
    "\\\\f(1/2)+a-2f(1/4)=0\n",
    "\\\\f(3/4)+f(1/4)-2f(1/2)=0\n",
    "\\\\b+f(1/2)-2f(3/4)=0\n",
    "\\\\f(5/4)-f(1)-4b=0\n",
    "\\end{cases}$$"
   ]
  },
  {
   "cell_type": "markdown",
   "metadata": {},
   "source": [
    "__Ejercicio 4:__ (indexación). Julia es más eficiente si se utiliza un único índice para acceder a los elementos de una matriz, además que puede simplificar algunos problemas. Escribe una función $\\phi$ que traduzca un par de índices $i,j$ a un único índice $k$, es decir: $$\\phi: (i,j) \\mapsto k.$$ También encuentren $\\phi^{-1}$. Note que $\\phi$ deberá depender de las dimensiones del arreglo, por lo menos de una de ellas.\n",
    "\n",
    "solución: analicemos un poco sobre las matrices $\\mathbb{R}^{nxm}\\simeq \\mathbb{R}^{nm}$, de esta manera vamos a definir lo siguiente:\n",
    "\n",
    "sea $\\phi:\\mathbb{R}^{nxm}\\rightarrow \\mathbb{R}^{nm}$ definida como $\\phi(a_{ij})=a_{(i-1)m+j}$ note como evidentemente esta función $\\phi$ es lineal. además analicemos que como $1\\leq i\\leq n$ y $1\\leq j\\leq m$ entonces $0\\leq i-1\\leq n-1$ entonces $1\\leq m(i-1)+j\\leq m+m(n-1)=mn$ es decir si coincide con que $\\phi(a_{ij})$ es un vector en $\\mathbb{R}^{nm}$ ahora notemos que como $\\delta _{ij}$ es base de las matrices, se puede ver que : $$\\phi(\\delta_{ij})=e_{(i-1)m+j}$$ notemos como lo que aparece en el lado derecho es un elemento de la base de $\\mathbb{R}^{nm}$, de manera que $\\phi$ es isomorfismo, luego entonces definimos la inversa como sigue: si $\\vec v\\in\\mathbb{R}^{nm}$ y $\\vec{v}=\\sum_{i=1}^{n}\\sum_{j=1}^{m}a_{(i-1)m+j}e_{(i-1)m+j}$ definimos $\\psi=\\phi^{-1}:\\mathbb{R}^{nm}\\rightarrow\\mathbb{R}^{nxm}$ como la única función lineal que hace que $\\psi(e_{(i-1)m+j})=\\delta_{ij}$ esto por la propiedad universal de las bases, aunque si queremos la expresión explícita no es muy complicado, de hecho con lo anterior es facil ver que: $$\\phi^{-1}\\left(\\vec v\\right)=a_{ij}$$ donde $\\vec v=\\sum_{i=1}^{n}\\sum_{j=1}^{m}a_{(i-1)m+j}e_{(i-1)m+j}$ es evidente que son inversas pues por como se construyo tomando la base se tiene que: $$\\psi\\circ\\phi(\\delta_{ij})=\\psi(e_{(i-1)m+j})=d^{ij}$$$$\\phi\\circ\\psi(e_{(i-1)m+j})=\\phi(\\delta_{ij})=e_{(i-1)m+j}$$ es decir en las bases resulta que dan lo mismo que $Id_{nm}$ e $Id_{nxm}$ (denotando la función identidad en el espacio real de dimensión nm y el de matrices respectivamente) de manera que por la propiedad universal de las bases se tiene que $\\psi\\circ\\phi=Id_{nxm}$ y $\\phi\\circ\\psi=Id_{nm}$ de manera que son funciones inversas."
   ]
  },
  {
   "cell_type": "code",
   "execution_count": null,
   "metadata": {},
   "outputs": [],
   "source": []
  }
 ],
 "metadata": {
  "kernelspec": {
   "display_name": "Julia 0.6.0",
   "language": "julia",
   "name": "julia-0.6"
  },
  "language_info": {
   "file_extension": ".jl",
   "mimetype": "application/julia",
   "name": "julia",
   "version": "0.6.0"
  }
 },
 "nbformat": 4,
 "nbformat_minor": 2
}
