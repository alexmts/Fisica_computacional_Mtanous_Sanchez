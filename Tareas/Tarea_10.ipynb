{
 "cells": [
  {
   "cell_type": "markdown",
   "metadata": {},
   "source": [
    "Editar las rutinas presentadas en esta clase para calcular la _derivada hacia adelante_ a orden más alto, pero en esta ocasión para el operador _derivada simetrizada_.\n",
    "* No olvide hacer el test de la rutina, similar a lo que se hizo en este notebook para el $cos$."
   ]
  },
  {
   "cell_type": "code",
   "execution_count": 1,
   "metadata": {
    "collapsed": true
   },
   "outputs": [],
   "source": [
    "using SymPy"
   ]
  },
  {
   "cell_type": "code",
   "execution_count": 2,
   "metadata": {
    "collapsed": true
   },
   "outputs": [],
   "source": [
    "x=Sym(\"x\");\n",
    "h=Sym(\"h\");"
   ]
  },
  {
   "cell_type": "code",
   "execution_count": 3,
   "metadata": {
    "collapsed": true
   },
   "outputs": [],
   "source": [
    "function coeff_Taylor_Asinh(i)\n",
    "    N(subs(diff(asinh(x/2.0),x,i)/factorial(Float64(i)),x=>0))\n",
    "end;\n",
    "\n",
    "function coeff_Taylor_Asinh_rational(i)\n",
    "    subs(diff(asinh(x/2.0),x,i)/factorial(i),x=>0)\n",
    "end;\n",
    "\n",
    "function finite_difference_forward_backward(f)\n",
    "    return (x,h)->f(x+h,h)-f(x-h,h)\n",
    "end;"
   ]
  },
  {
   "cell_type": "code",
   "execution_count": 4,
   "metadata": {
    "collapsed": true
   },
   "outputs": [],
   "source": [
    "function Derivative_orderAsinh(f,x,h,order)\n",
    "    term(x,h)=f(x)\n",
    "    g=term\n",
    "    der=0\n",
    "    for i in range(1,order)\n",
    "        g=finite_difference_forward_backward(g)\n",
    "        der=der+coeff_Taylor_Asinh(i)*g(x,h)\n",
    "    end\n",
    "    der/h\n",
    "end;\n",
    "function Derivative_order_rational_coefficientsAsinh(f,x,h,order)\n",
    "    term(x,h)=f(x)\n",
    "    g=term\n",
    "    der=0\n",
    "    for i in range(1,order)\n",
    "        g=finite_difference_forward_backward(g)\n",
    "        der=der+coeff_Taylor_Asinh_rational(i)*g(x,h)\n",
    "    end\n",
    "    der/h\n",
    "end;"
   ]
  },
  {
   "cell_type": "code",
   "execution_count": 5,
   "metadata": {
    "collapsed": false
   },
   "outputs": [
    {
     "data": {
      "text/plain": [
       "-0.8390715290764375"
      ]
     },
     "execution_count": 5,
     "metadata": {},
     "output_type": "execute_result"
    }
   ],
   "source": [
    "Derivative_orderAsinh(sin,10.0,0.01,20)"
   ]
  },
  {
   "cell_type": "code",
   "execution_count": 6,
   "metadata": {
    "collapsed": false
   },
   "outputs": [
    {
     "data": {
      "text/plain": [
       "-0.8390715290764524"
      ]
     },
     "execution_count": 6,
     "metadata": {},
     "output_type": "execute_result"
    }
   ],
   "source": [
    "cos(10.0)"
   ]
  },
  {
   "cell_type": "code",
   "execution_count": 7,
   "metadata": {
    "collapsed": true
   },
   "outputs": [],
   "source": [
    "f=SymFunction(\"f\");"
   ]
  },
  {
   "cell_type": "code",
   "execution_count": 8,
   "metadata": {
    "collapsed": false
   },
   "outputs": [
    {
     "data": {
      "text/latex": [
       "$$2 h \\left. \\frac{d}{d \\xi_{1}} f{\\left (\\xi_{1} \\right )} \\right|_{\\substack{ \\xi_{1}=x }} + \\frac{h^{3}}{3} \\left. \\frac{d^{3}}{d \\xi_{1}^{3}}  f{\\left (\\xi_{1} \\right )} \\right|_{\\substack{ \\xi_{1}=x }} + \\mathcal{O}\\left(h^{4}\\right)$$"
      ],
      "text/plain": [
       "                                 /   3           \\|              \n",
       "                               3 |  d            ||              \n",
       "                              h *|------(f(xi_1))||              \n",
       "                                 |     3         ||              \n",
       "    /  d           \\|            \\dxi_1          /|xi_1=x    / 4\\\n",
       "2*h*|-----(f(xi_1))||       + --------------------------- + O\\h /\n",
       "    \\dxi_1         /|xi_1=x                3                     "
      ]
     },
     "execution_count": 8,
     "metadata": {},
     "output_type": "execute_result"
    }
   ],
   "source": [
    "series(f(x+h)-f(x-h),h,0,4)"
   ]
  },
  {
   "cell_type": "code",
   "execution_count": 9,
   "metadata": {
    "collapsed": false
   },
   "outputs": [
    {
     "data": {
      "text/latex": [
       "$$\\frac{1}{h} \\left(- 0.5 f{\\left (- h + x \\right )} + 0.5 f{\\left (h + x \\right )}\\right)$$"
      ],
      "text/plain": [
       "-0.5*f(-h + x) + 0.5*f(h + x)\n",
       "-----------------------------\n",
       "              h              "
      ]
     },
     "execution_count": 9,
     "metadata": {},
     "output_type": "execute_result"
    }
   ],
   "source": [
    "aprox=Derivative_order_rational_coefficientsAsinh(SymFunction(\"f\"),Sym(\"x\"),Sym(\"h\"),2)"
   ]
  },
  {
   "cell_type": "code",
   "execution_count": 10,
   "metadata": {
    "collapsed": false
   },
   "outputs": [
    {
     "data": {
      "text/latex": [
       "$$1.0 \\left. \\frac{d}{d \\xi_{1}} f{\\left (\\xi_{1} \\right )} \\right|_{\\substack{ \\xi_{1}=x }} + 0.166666666666667 h^{2} \\left. \\frac{d^{3}}{d \\xi_{1}^{3}}  f{\\left (\\xi_{1} \\right )} \\right|_{\\substack{ \\xi_{1}=x }} + 0.00833333333333333 h^{4} \\left. \\frac{d^{5}}{d \\xi_{1}^{5}}  f{\\left (\\xi_{1} \\right )} \\right|_{\\substack{ \\xi_{1}=x }} + \\mathcal{O}\\left(h^{5}\\right)$$"
      ],
      "text/plain": [
       "                                                   /   3           \\|         \n",
       "    /  d           \\|                            2 |  d            ||         \n",
       "1.0*|-----(f(xi_1))||       + 0.166666666666667*h *|------(f(xi_1))||       + \n",
       "    \\dxi_1         /|xi_1=x                        |     3         ||         \n",
       "                                                   \\dxi_1          /|xi_1=x   \n",
       "\n",
       "                       /   5           \\|              \n",
       "                     4 |  d            ||          / 5\\\n",
       "0.00833333333333333*h *|------(f(xi_1))||       + O\\h /\n",
       "                       |     5         ||              \n",
       "                       \\dxi_1          /|xi_1=x        "
      ]
     },
     "execution_count": 10,
     "metadata": {},
     "output_type": "execute_result"
    }
   ],
   "source": [
    "series(aprox,h,0,5)"
   ]
  },
  {
   "cell_type": "code",
   "execution_count": 11,
   "metadata": {
    "collapsed": false
   },
   "outputs": [
    {
     "data": {
      "text/latex": [
       "$$\\frac{1}{h} \\left(0.000348772321428571 f{\\left (- 7 h + x \\right )} - 0.00478515625 f{\\left (- 5 h + x \\right )} + 0.0398763020833333 f{\\left (- 3 h + x \\right )} - 0.59814453125 f{\\left (- h + x \\right )} + 0.59814453125 f{\\left (h + x \\right )} - 0.0398763020833333 f{\\left (3 h + x \\right )} + 0.00478515625 f{\\left (5 h + x \\right )} - 0.000348772321428571 f{\\left (7 h + x \\right )}\\right)$$"
      ],
      "text/plain": [
       "0.000348772321428571*f(-7*h + x) - 0.00478515625*f(-5*h + x) + 0.0398763020833\n",
       "------------------------------------------------------------------------------\n",
       "                                                                              \n",
       "\n",
       "333*f(-3*h + x) - 0.59814453125*f(-h + x) + 0.59814453125*f(h + x) - 0.0398763\n",
       "------------------------------------------------------------------------------\n",
       "                                        h                                     \n",
       "\n",
       "020833333*f(3*h + x) + 0.00478515625*f(5*h + x) - 0.000348772321428571*f(7*h +\n",
       "------------------------------------------------------------------------------\n",
       "                                                                              \n",
       "\n",
       " x)\n",
       "---\n",
       "   "
      ]
     },
     "execution_count": 11,
     "metadata": {},
     "output_type": "execute_result"
    }
   ],
   "source": [
    "aprox=Derivative_order_rational_coefficientsAsinh(SymFunction(\"f\"),Sym(\"x\"),Sym(\"h\"),8)"
   ]
  },
  {
   "cell_type": "code",
   "execution_count": 12,
   "metadata": {
    "collapsed": false
   },
   "outputs": [
    {
     "data": {
      "text/latex": [
       "$$\\frac{1}{h} 5.25295952569227 \\cdot 10^{-17} f{\\left (x \\right )} + 1.0 \\left. \\frac{d}{d \\xi_{1}} f{\\left (\\xi_{1} \\right )} \\right|_{\\substack{ \\xi_{1}=x }} + 2.77555756156289 \\cdot 10^{-17} h \\left. \\frac{d^{2}}{d \\xi_{1}^{2}}  f{\\left (\\xi_{1} \\right )} \\right|_{\\substack{ \\xi_{1}=x }} + 4.5102810375397 \\cdot 10^{-17} h^{2} \\left. \\frac{d^{3}}{d \\xi_{1}^{3}}  f{\\left (\\xi_{1} \\right )} \\right|_{\\substack{ \\xi_{1}=x }} + 4.16333634234434 \\cdot 10^{-17} h^{3} \\left. \\frac{d^{4}}{d \\xi_{1}^{4}}  f{\\left (\\xi_{1} \\right )} \\right|_{\\substack{ \\xi_{1}=x }} + 4.85722573273506 \\cdot 10^{-17} h^{4} \\left. \\frac{d^{5}}{d \\xi_{1}^{5}}  f{\\left (\\xi_{1} \\right )} \\right|_{\\substack{ \\xi_{1}=x }} - 2.77555756156289 \\cdot 10^{-17} h^{5} \\left. \\frac{d^{6}}{d \\xi_{1}^{6}}  f{\\left (\\xi_{1} \\right )} \\right|_{\\substack{ \\xi_{1}=x }} - 6.93889390390723 \\cdot 10^{-18} h^{6} \\left. \\frac{d^{7}}{d \\xi_{1}^{7}}  f{\\left (\\xi_{1} \\right )} \\right|_{\\substack{ \\xi_{1}=x }} - 0.0303819444444444 h^{8} \\left. \\frac{d^{9}}{d \\xi_{1}^{9}}  f{\\left (\\xi_{1} \\right )} \\right|_{\\substack{ \\xi_{1}=x }} + \\mathcal{O}\\left(h^{10}\\right)$$"
      ],
      "text/plain": [
       "                                                                              \n",
       "5.25295952569227e-17*f(x)       /  d           \\|                             \n",
       "------------------------- + 1.0*|-----(f(xi_1))||       + 2.77555756156289e-17\n",
       "            h                   \\dxi_1         /|xi_1=x                       \n",
       "                                                                              \n",
       "\n",
       "   /   2           \\|                                /   3           \\|       \n",
       "   |  d            ||                              2 |  d            ||       \n",
       "*h*|------(f(xi_1))||       + 4.5102810375397e-17*h *|------(f(xi_1))||       \n",
       "   |     2         ||                                |     3         ||       \n",
       "   \\dxi_1          /|xi_1=x                          \\dxi_1          /|xi_1=x \n",
       "\n",
       "                          /   4           \\|                                 /\n",
       "                        3 |  d            ||                               4 |\n",
       "+ 4.16333634234434e-17*h *|------(f(xi_1))||       + 4.85722573273506e-17*h *|\n",
       "                          |     4         ||                                 |\n",
       "                          \\dxi_1          /|xi_1=x                           \\\n",
       "\n",
       "   5           \\|                                 /   6           \\|          \n",
       "  d            ||                               5 |  d            ||          \n",
       "------(f(xi_1))||       - 2.77555756156289e-17*h *|------(f(xi_1))||       - 6\n",
       "     5         ||                                 |     6         ||          \n",
       "dxi_1          /|xi_1=x                           \\dxi_1          /|xi_1=x    \n",
       "\n",
       "                       /   7           \\|                               /   9 \n",
       "                     6 |  d            ||                             8 |  d  \n",
       ".93889390390723e-18*h *|------(f(xi_1))||       - 0.0303819444444444*h *|-----\n",
       "                       |     7         ||                               |     \n",
       "                       \\dxi_1          /|xi_1=x                         \\dxi_1\n",
       "\n",
       "          \\|               \n",
       "          ||          / 10\\\n",
       "-(f(xi_1))||       + O\\h  /\n",
       "9         ||               \n",
       "          /|xi_1=x         "
      ]
     },
     "execution_count": 12,
     "metadata": {},
     "output_type": "execute_result"
    }
   ],
   "source": [
    "series(aprox,h,0,10)\n"
   ]
  }
 ],
 "metadata": {
  "kernelspec": {
   "display_name": "Julia 0.6.0",
   "language": "julia",
   "name": "julia-0.6"
  },
  "language_info": {
   "file_extension": ".jl",
   "mimetype": "application/julia",
   "name": "julia",
   "version": "0.6.0"
  }
 },
 "nbformat": 4,
 "nbformat_minor": 2
}
