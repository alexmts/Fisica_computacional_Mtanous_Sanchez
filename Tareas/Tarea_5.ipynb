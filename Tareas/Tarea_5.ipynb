{
 "cells": [
  {
   "cell_type": "markdown",
   "metadata": {},
   "source": [
    "# Métodos de Integración"
   ]
  },
  {
   "cell_type": "markdown",
   "metadata": {},
   "source": [
    "## Método de Riemann"
   ]
  },
  {
   "cell_type": "markdown",
   "metadata": {},
   "source": [
    "Éste método consiste en hacer una suma finita de los rectángulos que mejor aproximan el área bajo la función $f$.\n",
    "En primer lugar hay que tomar una partición finita de $f$, de preferencia con intervalos de longitud constante. Después se evalúa la función $f$ en cada punto $x$ del intervalo. Así, se encuentra el rectángulo con base igual a la longitud del intervalo y altura $f(x)$. Lo siguiente es sumarlos todos."
   ]
  },
  {
   "cell_type": "markdown",
   "metadata": {},
   "source": [
    "Se usa el concepto de Suma de Riemann $$ S=\\sum _{i=0} ^n f(y_i)(x_i-x_{i-1}) $$\n"
   ]
  },
  {
   "cell_type": "markdown",
   "metadata": {},
   "source": [
    "Representa la suma de las áreas de los rectángulos anteriores.  "
   ]
  },
  {
   "cell_type": "markdown",
   "metadata": {},
   "source": [
    "Ahora para encontrar la integral, se utiliza el concepto de límite. Hay que hacer una partición tal que la longitud del intervalo tienda a cero. De esta manera, las correcciones de las áreas de los rectángulos tienden al área exacta bajo la función."
   ]
  },
  {
   "cell_type": "markdown",
   "metadata": {},
   "source": [
    "Por tanto, la integral de la función $f$ es"
   ]
  },
  {
   "cell_type": "markdown",
   "metadata": {},
   "source": [
    "$$ \\int_{a}^{b}f(x)dx = \\lim_{n \\to \\infty} \\frac{(b-a)}{n}\\sum_{k = 1}^{n}f(a + k \\frac{(b-a)}{n}) $$"
   ]
  },
  {
   "cell_type": "markdown",
   "metadata": {},
   "source": [
    "## Suma Trapezoidal"
   ]
  },
  {
   "cell_type": "markdown",
   "metadata": {},
   "source": [
    "Se utiliza este método para aproximar el valor de una función deifnida en un intervalo, usando los valores promedio en las fronteras.\n",
    "\n",
    "El área del Trapecio que se utiliza es\n",
    "\n",
    "$$ A=\\frac{1}{2}h(b_1+b_2) $$\n",
    "\n",
    "Considerando un trapecio con lados paralelos $b_1,b_2$ y altura $h$ llegamos a la siguiente expresión:\n",
    "\n",
    "$$ \\frac{1}{2}Q[f(a)+2f(a+Q)+2f(a+2q)+2f(a+3Q)...+f(b)] $$\n",
    "\n",
    "Ésa área tiene un error con respecto al área de la función $f$, que es\n",
    "\n",
    "$$ | \\int _a ^b f(x) dx - A_{trapezoidal} \\quad | \\leq \\frac{N_2(b-a)^3}{12n^2}$$\n",
    "\n",
    "Con $N_2$ el valor máximo permitido para el valor absoluto de $f''(x)$\n",
    "\n",
    "Por tanto, para obtener una mejor aproximación hace falta partir la función en trapecios más pequeños, llevando a que el error tienda a cero.\n"
   ]
  },
  {
   "cell_type": "markdown",
   "metadata": {},
   "source": [
    "## Regla de Simpson "
   ]
  },
  {
   "cell_type": "markdown",
   "metadata": {},
   "source": [
    "Éste método es simplemente utilizar la suma Trapezoidal para encontrar el valor de una integral definida. Para cada subintervalo donde este definida la integral se aproxima la función $f$ por un polinomio de primer grado y, al ser la integral como una suma continua, se suman las áreas de los trapecios formados por esos subintervalos. El método de Simpson, a diferencia del anterior usa polinomios de segundo grado.\n",
    "\n",
    "La integral se define como:\n",
    "\n",
    "$$ \\int _a ^b f(x) dz= \\frac{b-a}{6}[f(a)+4f(\\frac{a+b}{2}+f(b)]$$\n",
    "\n",
    "El error asociado a esta expresión es:\n",
    "\n",
    "$$ E(f) = - \\frac{h^5}{90}f^{(4)}( \\epsilon ) $$\n",
    "\n"
   ]
  }
 ],
 "metadata": {
  "kernelspec": {
   "display_name": "Julia 0.6.0",
   "language": "julia",
   "name": "julia-0.6"
  },
  "language_info": {
   "file_extension": ".jl",
   "mimetype": "application/julia",
   "name": "julia",
   "version": "0.6.0"
  }
 },
 "nbformat": 4,
 "nbformat_minor": 2
}
